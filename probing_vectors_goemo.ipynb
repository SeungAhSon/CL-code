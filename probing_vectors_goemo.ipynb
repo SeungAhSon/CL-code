{
 "cells": [
  {
   "cell_type": "code",
   "execution_count": 1,
   "metadata": {},
   "outputs": [],
   "source": [
    "import os\n",
    "\n",
    "os.environ[\"OMP_NUM_THREADS\"] = \"10\"  # has to be done before any package is imported\n",
    "\n",
    "import glob\n",
    "import pickle\n",
    "import numpy as np\n",
    "from sklearn.linear_model import LogisticRegression\n",
    "import matplotlib.pyplot as plt\n",
    "from tqdm import tqdm\n",
    "import pandas as pd\n",
    "import pandas as pd\n",
    "from pathlib import Path"
   ]
  },
  {
   "cell_type": "code",
   "execution_count": 2,
   "metadata": {},
   "outputs": [
    {
     "name": "stdout",
     "output_type": "stream",
     "text": [
      "## USING THE GOEMOTION DATASET ##\n"
     ]
    }
   ],
   "source": [
    "DATASET = \"GoEmo\"\n",
    "print(\"## USING THE GOEMOTION DATASET ##\")\n",
    "\n",
    "# VECTOR_TYPE = \"training_based\"\n",
    "VECTOR_TYPE = \"activations\"\n",
    "\n",
    "# For a fair comparison of the ROC curves between the activation and the steering vectors we need to only use the activation vectors, where we have found steering vectors\n",
    "COMPARISON_TYPE = \"all\"\n",
    "# COMPARISON_TYPE = \"fair\""
   ]
  },
  {
   "cell_type": "code",
   "execution_count": 3,
   "metadata": {},
   "outputs": [
    {
     "name": "stdout",
     "output_type": "stream",
     "text": [
      "## LOADING ACTIVATION VECTORS ##\n"
     ]
    }
   ],
   "source": [
    "TRAINED_STEERING_VECTOR_PATH = os.getenv(\"TRAINED_VECTORS_PATH_GoEmo\")\n",
    "TRAINED_STEERING_VECTOR_FILES = glob.glob(f\"./store_activations/GoEmo/*\")\n",
    "TRAINED_STEERING_VEC_MIN_LOSS = 5\n",
    "\n",
    "if VECTOR_TYPE == \"training_based\":\n",
    "    print(\"## LOADING TRAINED STEERING VECTORS ##\")\n",
    "elif VECTOR_TYPE == \"activations\":\n",
    "    if COMPARISON_TYPE == \"fair\":\n",
    "        print(\"## LOADING ACTIVATION VECTORS in the fair setting##\")\n",
    "    else:\n",
    "        print(\"## LOADING ACTIVATION VECTORS ##\")\n",
    "else:\n",
    "    print(\"Options for VECTOR_TYPE are -training_based- or -activations-\")\n",
    "    exit(-1)"
   ]
  },
  {
   "cell_type": "code",
   "execution_count": 4,
   "metadata": {},
   "outputs": [],
   "source": [
    "### LOADING ACTIVATION VECTORS for train and test set\n",
    "go_emo_train = pd.read_pickle(\"./store_activation/GoEmo/GoEmo_activations_train.pkl\")\n",
    "go_emo_test = pd.read_pickle(\"./store_activation/GoEmo/GoEmo_activations_test.pkl\")\n",
    "\n",
    "# we dont have activations for all entries\n",
    "go_emo_train = [entry for entry in go_emo_train if len(entry) == 3]\n",
    "go_emo_test = [entry for entry in go_emo_test if len(entry) == 3]\n",
    "\n",
    "go_emo_train_tmp = np.array(go_emo_train, dtype=object)\n",
    "go_emo_train_tmp_dic = list(go_emo_train_tmp[:, 1])\n",
    "df_train_tmp = pd.DataFrame(go_emo_train_tmp_dic, columns=[\"text\", \"labels\", \"id\"])\n",
    "\n",
    "go_emo_test_tmp = np.array(go_emo_test, dtype=object)\n",
    "go_emo_test_tmp_dic = list(go_emo_test_tmp[:, 1])\n",
    "df_test_tmp = pd.DataFrame(go_emo_test_tmp_dic, columns=[\"text\", \"labels\", \"id\"])"
   ]
  },
  {
   "cell_type": "code",
   "execution_count": 5,
   "metadata": {},
   "outputs": [],
   "source": [
    "### LOADING TRAINED STEERING VECTORS\n",
    "labels = [25, 17, 14, 2, 26, 11]\n",
    "means = []\n",
    "total_mean = []\n",
    "\n",
    "df_goemo = pd.read_pickle(\"./datasets/pkl/go_emotions.pkl\")\n",
    "go_emo_train_steering = []\n",
    "go_emo_test_steering = []\n",
    "\n",
    "go_emo_train_actis_fair = []\n",
    "go_emo_test_actis_fair = []"
   ]
  },
  {
   "cell_type": "code",
   "execution_count": 6,
   "metadata": {},
   "outputs": [
    {
     "name": "stderr",
     "output_type": "stream",
     "text": [
      "Loading trained steering vecs: 0it [00:00, ?it/s]\n"
     ]
    }
   ],
   "source": [
    "\n",
    "\n",
    "for file in tqdm(TRAINED_STEERING_VECTOR_FILES, desc=\"Loading trained steering vecs\"):\n",
    "    with open(file, \"rb\") as f:\n",
    "        a = pickle.load(f)\n",
    "\n",
    "        for key, value in a.items():\n",
    "            target_sentence = key\n",
    "            steering_vector = value[0]\n",
    "            for vec_i, vec in enumerate(\n",
    "                steering_vector\n",
    "            ):  # the vectors were saved as tensors with device=cuda. shape is 1,4096 and therefore squeeze\n",
    "                steering_vector[vec_i] = (\n",
    "                    steering_vector[vec_i].detach().cpu().numpy().squeeze()\n",
    "                )\n",
    "            # activations = value[1]\n",
    "            loss = value[2].detach().cpu().numpy().item()\n",
    "            epoch = value[3]\n",
    "            # gen_text = value[4]\n",
    "            label = value[5]\n",
    "\n",
    "            dsl_entry = df_goemo[df_goemo[\"text\"] == target_sentence]\n",
    "\n",
    "            if loss < TRAINED_STEERING_VEC_MIN_LOSS:\n",
    "\n",
    "                if not (df_train_tmp[df_train_tmp[\"text\"] == target_sentence]).empty:\n",
    "                    found = df_train_tmp[df_train_tmp[\"text\"] == target_sentence]\n",
    "                    go_emo_train_actis_fair.append(go_emo_train[found.index[0]])\n",
    "                    go_emo_train_steering.append(\n",
    "                        [\n",
    "                            label.item(),\n",
    "                            dsl_entry.to_dict(orient=\"list\"),\n",
    "                            steering_vector,\n",
    "                            loss,\n",
    "                        ]\n",
    "                    )\n",
    "\n",
    "                elif not (df_test_tmp[df_test_tmp[\"text\"] == target_sentence]).empty:\n",
    "                    found = df_test_tmp[df_test_tmp[\"text\"] == target_sentence]\n",
    "                    go_emo_test_actis_fair.append(go_emo_test[found.index[0]])\n",
    "                    go_emo_test_steering.append(\n",
    "                        [\n",
    "                            label.item(),\n",
    "                            dsl_entry.to_dict(orient=\"list\"),\n",
    "                            steering_vector,\n",
    "                            loss,\n",
    "                        ]\n",
    "                    )\n",
    "\n",
    "\n",
    "\n",
    "\n"
   ]
  },
  {
   "cell_type": "code",
   "execution_count": 18,
   "metadata": {},
   "outputs": [],
   "source": [
    "# taken from https://scikit-learn.org/stable/auto_examples/model_selection/plot_roc.html\n",
    "def plot_classification(\n",
    "    y_train, y_test, y_score, n_classes, target_names, layer_indices\n",
    "):\n",
    "    from itertools import cycle\n",
    "    from sklearn.preprocessing import LabelBinarizer\n",
    "    from sklearn.metrics import roc_curve, auc\n",
    "    from sklearn.metrics import RocCurveDisplay\n",
    "\n",
    "    label_binarizer = LabelBinarizer().fit(y_train)\n",
    "    y_onehot_test = label_binarizer.transform(y_test)\n",
    "    y_onehot_test.shape  # (n_samples, n_classes)\n",
    "    fig, ax = plt.subplots(figsize=(6, 6))\n",
    "\n",
    "    # store the fpr, tpr, and roc_auc for all averaging strategies\n",
    "    fpr, tpr, roc_auc = dict(), dict(), dict()\n",
    "    # Compute micro-average ROC curve and ROC area\n",
    "    fpr[\"micro\"], tpr[\"micro\"], _ = roc_curve(y_onehot_test.ravel(), y_score.ravel())\n",
    "    roc_auc[\"micro\"] = auc(fpr[\"micro\"], tpr[\"micro\"])\n",
    "\n",
    "    print(f\"Micro-averaged One-vs-Rest ROC AUC score:\\n{roc_auc['micro']:.2f}\")\n",
    "\n",
    "    plt.plot(\n",
    "        fpr[\"micro\"],\n",
    "        tpr[\"micro\"],\n",
    "        # label=f\"micro-average ROC curve (AUC = {roc_auc['micro']:.2f})\",\n",
    "        label=f\"micro-average (AUC = {roc_auc['micro']:.2f})\",\n",
    "        color=\"deeppink\",\n",
    "        linestyle=\":\",\n",
    "        linewidth=4,\n",
    "    )\n",
    "\n",
    "    colors = cycle([\"aqua\", \"darkorange\", \"cornflowerblue\", \"red\", \"purple\", \"green\"])\n",
    "    for class_id, color in zip(range(n_classes), colors):\n",
    "        RocCurveDisplay.from_predictions(\n",
    "            y_onehot_test[:, class_id],\n",
    "            y_score[:, class_id],\n",
    "            # name=f\"ROC curve for {target_names[class_id]}\",\n",
    "            name=f\"{target_names[class_id]}\",\n",
    "            color=color,\n",
    "            ax=ax,\n",
    "        )\n",
    "\n",
    "    plt.plot([0, 1], [0, 1], \"k--\")  # , label=\"ROC curve for chance level (AUC = 0.5)\")\n",
    "    plt.axis(\"square\")\n",
    "    plt.grid(color=\"lightgray\", linestyle=\"-\", linewidth=1)\n",
    "    plt.xlabel(\"False Positive Rate\", fontsize=15)\n",
    "    plt.ylabel(\"True Positive Rate\", fontsize=15)\n",
    "    # plt.title(\"Extension of Receiver Operating Characteristic\\nto One-vs-Rest multiclass\")\n",
    "    plt.legend(loc=\"lower right\", fontsize=13)\n",
    "    fig_name_indices = \"\"\n",
    "    for layer_idx in layer_indices:\n",
    "        fig_name_indices += f\"{layer_idx}_\"\n",
    "    fig_name = (\n",
    "        f\"ROC_goemo_{fig_name_indices}steering.pdf\"\n",
    "        if VECTOR_TYPE == \"training_based\"\n",
    "        else f\"ROC_goemo_{fig_name_indices}actis_{COMPARISON_TYPE}.pdf\"\n",
    "    )\n",
    "    # fig_name = f\"test.pdf\"\n",
    "    plt.savefig(f\"./images/{fig_name}\")\n",
    "    plt.clf()"
   ]
  },
  {
   "cell_type": "code",
   "execution_count": 19,
   "metadata": {},
   "outputs": [],
   "source": [
    "from sklearn.linear_model import LogisticRegression\n",
    "from sklearn.preprocessing import StandardScaler\n",
    "from sklearn.pipeline import make_pipeline"
   ]
  },
  {
   "cell_type": "code",
   "execution_count": 20,
   "metadata": {},
   "outputs": [],
   "source": [
    "# logistic regression iterating over all layers\n",
    "def single_layer_classification(layer_index):\n",
    "    \"\"\"Training a logistic regression classifier with single layers as input.\n",
    "\n",
    "    :param int layer_index: Which layer should be used.\n",
    "    \"\"\"\n",
    "\n",
    "    if (VECTOR_TYPE == \"activations\") and (COMPARISON_TYPE == \"all\"):\n",
    "        Y_train = []\n",
    "        X_train = []\n",
    "        for entry in go_emo_train:\n",
    "            Y_train.append(labels.index(entry[1][\"labels\"][0]))\n",
    "            X_train.append(entry[2][layer_index])\n",
    "\n",
    "        Y_test = []\n",
    "        X_test = []\n",
    "        for entry in go_emo_test:\n",
    "            Y_test.append(labels.index(entry[1][\"labels\"][0]))\n",
    "            X_test.append(entry[2][layer_index])\n",
    "\n",
    "    else:\n",
    "        Y_25, Y_17, Y_14, Y_2, Y_26, Y_11 = [], [], [], [], [], []\n",
    "        X_25, X_17, X_14, X_2, X_26, X_11 = [], [], [], [], [], []\n",
    "\n",
    "        entry_list = (\n",
    "            go_emo_train_steering\n",
    "            if VECTOR_TYPE == \"training_based\"\n",
    "            else go_emo_train_actis_fair\n",
    "        )\n",
    "\n",
    "        for entry in entry_list:\n",
    "            class_label = entry[1][\"labels\"][0]\n",
    "\n",
    "            if class_label == 25:\n",
    "                Y_25.append(labels.index(entry[1][\"labels\"][0]))\n",
    "                X_25.append(entry[2][layer_index - 18])\n",
    "            elif class_label == 17:\n",
    "                Y_17.append(labels.index(entry[1][\"labels\"][0]))\n",
    "                X_17.append(entry[2][layer_index - 18])\n",
    "            elif class_label == 14:\n",
    "                Y_14.append(labels.index(entry[1][\"labels\"][0]))\n",
    "                X_14.append(entry[2][layer_index - 18])\n",
    "            elif class_label == 2:\n",
    "                Y_2.append(labels.index(entry[1][\"labels\"][0]))\n",
    "                X_2.append(entry[2][layer_index - 18])\n",
    "            elif class_label == 26:\n",
    "                Y_26.append(labels.index(entry[1][\"labels\"][0]))\n",
    "                X_26.append(entry[2][layer_index - 18])\n",
    "            elif class_label == 11:\n",
    "                Y_11.append(labels.index(entry[1][\"labels\"][0]))\n",
    "                X_11.append(entry[2][layer_index - 18])\n",
    "            else:\n",
    "                print(f\"Didn't find {class_label}\")\n",
    "\n",
    "        X_train, X_test = [], []\n",
    "        Y_train, Y_test = [], []\n",
    "        split_ratio = 0.5\n",
    "        for tup in [\n",
    "            (X_25, Y_25),\n",
    "            (X_17, Y_17),\n",
    "            (X_14, Y_14),\n",
    "            (X_2, Y_2),\n",
    "            (X_26, Y_26),\n",
    "            (X_11, Y_11),\n",
    "        ]:\n",
    "            end_train_idx = int(split_ratio * len(tup[0])) + 1\n",
    "            X_train.extend(tup[0][0:end_train_idx])\n",
    "            Y_train.extend(tup[1][0:end_train_idx])\n",
    "            X_test.extend(tup[0][end_train_idx:-1])\n",
    "            Y_test.extend(tup[1][end_train_idx:-1])\n",
    "            \n",
    "    clf = make_pipeline(StandardScaler(), \n",
    "                    LogisticRegression(multi_class=\"multinomial\", max_iter=50000, class_weight=\"balanced\"))\n",
    "    \n",
    "    # Fit the model\n",
    "    clf.fit(X_train, Y_train)\n",
    "    print(f\"Layer {layer_index} classification score: {clf.score(X_test, Y_test)}\")\n",
    "    \n",
    "    plot_classification(\n",
    "        Y_train,\n",
    "        Y_test,\n",
    "        clf.predict_proba(X_test),\n",
    "        6,\n",
    "        [\"sadness\", \"joy\", \"fear\", \"anger\", \"surprise\", \"disgust\"],\n",
    "        [layer_index],\n",
    "    )"
   ]
  },
  {
   "cell_type": "code",
   "execution_count": 21,
   "metadata": {},
   "outputs": [],
   "source": [
    "# logistic regression with concatenated layers, sliding window\n",
    "def multi_layer_classification(num_layers=3, specific_layers=None):\n",
    "    \"\"\"Training a logistic regression classifier with multiple layers as input.\n",
    "    Currently it only works for the activation-based vectors.\n",
    "\n",
    "    :param int num_layers: How many layers per classifier, defaults to 3\n",
    "    :param array specific_layers: Which layers should be used , defaults to None\n",
    "    \"\"\"\n",
    "\n",
    "    layer_indices_list = []\n",
    "    if specific_layers is not None:\n",
    "        layer_indices_list = [specific_layers]\n",
    "    else:\n",
    "        for i in range(0, 33):\n",
    "            layer_indices_list.append(np.arange(i, i + num_layers))\n",
    "\n",
    "    for layer_indices in layer_indices_list:\n",
    "\n",
    "        Y_train = []\n",
    "        X_train = []\n",
    "        for entry in go_emo_train:\n",
    "            Y_train.append(labels.index(entry[1][\"labels\"][0]))\n",
    "            entries = []\n",
    "            for layer_index in layer_indices:\n",
    "                entries.append(entry[2][layer_index])\n",
    "            X_train.append(np.concatenate(entries))\n",
    "\n",
    "        Y_test = []\n",
    "        X_test = []\n",
    "        for entry in go_emo_test:\n",
    "            Y_test.append(labels.index(entry[1][\"labels\"][0]))\n",
    "            entries = []\n",
    "            for layer_index in layer_indices:\n",
    "                entries.append(entry[2][layer_index])\n",
    "            X_test.append(np.concatenate(entries))\n",
    "\n",
    "        clf = LogisticRegression(\n",
    "            multi_class=\"multinomial\", max_iter=10000, class_weight=\"balanced\"\n",
    "        ).fit(X_train, Y_train)\n",
    "        print(\n",
    "            f\"Layer {layer_indices[0]} classification score: {clf.score(X_test,Y_test)}\"\n",
    "        )\n",
    "        plot_classification(\n",
    "            Y_train,\n",
    "            Y_test,\n",
    "            clf.predict_proba(X_test),\n",
    "            6,\n",
    "            [\"sadness\", \"joy\", \"fear\", \"anger\", \"surprise\", \"disgust\"],\n",
    "            layer_indices,\n",
    "        )"
   ]
  },
  {
   "cell_type": "code",
   "execution_count": 22,
   "metadata": {},
   "outputs": [],
   "source": [
    "#import warnings\n",
    "#warnings.filterwarnings(\"ignore\")"
   ]
  },
  {
   "cell_type": "code",
   "execution_count": 24,
   "metadata": {},
   "outputs": [
    {
     "name": "stdout",
     "output_type": "stream",
     "text": [
      "1\n"
     ]
    },
    {
     "name": "stderr",
     "output_type": "stream",
     "text": [
      "/home/sa/anaconda3/envs/llm2vec/lib/python3.10/site-packages/sklearn/linear_model/_logistic.py:1247: FutureWarning: 'multi_class' was deprecated in version 1.5 and will be removed in 1.7. From then on, it will always use 'multinomial'. Leave it to its default value to avoid this warning.\n",
      "  warnings.warn(\n"
     ]
    },
    {
     "name": "stdout",
     "output_type": "stream",
     "text": [
      "Layer 1 classification score: 0.5018050541516246\n",
      "Micro-averaged One-vs-Rest ROC AUC score:\n",
      "0.75\n",
      "2\n"
     ]
    },
    {
     "name": "stderr",
     "output_type": "stream",
     "text": [
      "/home/sa/anaconda3/envs/llm2vec/lib/python3.10/site-packages/sklearn/linear_model/_logistic.py:1247: FutureWarning: 'multi_class' was deprecated in version 1.5 and will be removed in 1.7. From then on, it will always use 'multinomial'. Leave it to its default value to avoid this warning.\n",
      "  warnings.warn(\n"
     ]
    },
    {
     "name": "stdout",
     "output_type": "stream",
     "text": [
      "Layer 2 classification score: 0.4963898916967509\n",
      "Micro-averaged One-vs-Rest ROC AUC score:\n",
      "0.76\n",
      "3\n"
     ]
    },
    {
     "name": "stderr",
     "output_type": "stream",
     "text": [
      "/home/sa/anaconda3/envs/llm2vec/lib/python3.10/site-packages/sklearn/linear_model/_logistic.py:1247: FutureWarning: 'multi_class' was deprecated in version 1.5 and will be removed in 1.7. From then on, it will always use 'multinomial'. Leave it to its default value to avoid this warning.\n",
      "  warnings.warn(\n"
     ]
    },
    {
     "name": "stdout",
     "output_type": "stream",
     "text": [
      "Layer 3 classification score: 0.5180505415162455\n",
      "Micro-averaged One-vs-Rest ROC AUC score:\n",
      "0.79\n",
      "4\n"
     ]
    },
    {
     "name": "stderr",
     "output_type": "stream",
     "text": [
      "/home/sa/anaconda3/envs/llm2vec/lib/python3.10/site-packages/sklearn/linear_model/_logistic.py:1247: FutureWarning: 'multi_class' was deprecated in version 1.5 and will be removed in 1.7. From then on, it will always use 'multinomial'. Leave it to its default value to avoid this warning.\n",
      "  warnings.warn(\n"
     ]
    },
    {
     "name": "stdout",
     "output_type": "stream",
     "text": [
      "Layer 4 classification score: 0.5252707581227437\n",
      "Micro-averaged One-vs-Rest ROC AUC score:\n",
      "0.80\n",
      "5\n"
     ]
    },
    {
     "name": "stderr",
     "output_type": "stream",
     "text": [
      "/home/sa/anaconda3/envs/llm2vec/lib/python3.10/site-packages/sklearn/linear_model/_logistic.py:1247: FutureWarning: 'multi_class' was deprecated in version 1.5 and will be removed in 1.7. From then on, it will always use 'multinomial'. Leave it to its default value to avoid this warning.\n",
      "  warnings.warn(\n"
     ]
    },
    {
     "name": "stdout",
     "output_type": "stream",
     "text": [
      "Layer 5 classification score: 0.5595667870036101\n",
      "Micro-averaged One-vs-Rest ROC AUC score:\n",
      "0.83\n",
      "6\n"
     ]
    },
    {
     "name": "stderr",
     "output_type": "stream",
     "text": [
      "/home/sa/anaconda3/envs/llm2vec/lib/python3.10/site-packages/sklearn/linear_model/_logistic.py:1247: FutureWarning: 'multi_class' was deprecated in version 1.5 and will be removed in 1.7. From then on, it will always use 'multinomial'. Leave it to its default value to avoid this warning.\n",
      "  warnings.warn(\n"
     ]
    },
    {
     "name": "stdout",
     "output_type": "stream",
     "text": [
      "Layer 6 classification score: 0.5703971119133574\n",
      "Micro-averaged One-vs-Rest ROC AUC score:\n",
      "0.83\n",
      "7\n"
     ]
    },
    {
     "name": "stderr",
     "output_type": "stream",
     "text": [
      "/home/sa/anaconda3/envs/llm2vec/lib/python3.10/site-packages/sklearn/linear_model/_logistic.py:1247: FutureWarning: 'multi_class' was deprecated in version 1.5 and will be removed in 1.7. From then on, it will always use 'multinomial'. Leave it to its default value to avoid this warning.\n",
      "  warnings.warn(\n"
     ]
    },
    {
     "name": "stdout",
     "output_type": "stream",
     "text": [
      "Layer 7 classification score: 0.5884476534296029\n",
      "Micro-averaged One-vs-Rest ROC AUC score:\n",
      "0.83\n",
      "8\n"
     ]
    },
    {
     "name": "stderr",
     "output_type": "stream",
     "text": [
      "/home/sa/anaconda3/envs/llm2vec/lib/python3.10/site-packages/sklearn/linear_model/_logistic.py:1247: FutureWarning: 'multi_class' was deprecated in version 1.5 and will be removed in 1.7. From then on, it will always use 'multinomial'. Leave it to its default value to avoid this warning.\n",
      "  warnings.warn(\n"
     ]
    },
    {
     "name": "stdout",
     "output_type": "stream",
     "text": [
      "Layer 8 classification score: 0.5830324909747292\n",
      "Micro-averaged One-vs-Rest ROC AUC score:\n",
      "0.84\n",
      "9\n"
     ]
    },
    {
     "name": "stderr",
     "output_type": "stream",
     "text": [
      "/home/sa/anaconda3/envs/llm2vec/lib/python3.10/site-packages/sklearn/linear_model/_logistic.py:1247: FutureWarning: 'multi_class' was deprecated in version 1.5 and will be removed in 1.7. From then on, it will always use 'multinomial'. Leave it to its default value to avoid this warning.\n",
      "  warnings.warn(\n"
     ]
    },
    {
     "name": "stdout",
     "output_type": "stream",
     "text": [
      "Layer 9 classification score: 0.5830324909747292\n",
      "Micro-averaged One-vs-Rest ROC AUC score:\n",
      "0.84\n",
      "10\n"
     ]
    },
    {
     "name": "stderr",
     "output_type": "stream",
     "text": [
      "/home/sa/anaconda3/envs/llm2vec/lib/python3.10/site-packages/sklearn/linear_model/_logistic.py:1247: FutureWarning: 'multi_class' was deprecated in version 1.5 and will be removed in 1.7. From then on, it will always use 'multinomial'. Leave it to its default value to avoid this warning.\n",
      "  warnings.warn(\n"
     ]
    },
    {
     "name": "stdout",
     "output_type": "stream",
     "text": [
      "Layer 10 classification score: 0.5974729241877257\n",
      "Micro-averaged One-vs-Rest ROC AUC score:\n",
      "0.85\n",
      "11\n"
     ]
    },
    {
     "name": "stderr",
     "output_type": "stream",
     "text": [
      "/home/sa/anaconda3/envs/llm2vec/lib/python3.10/site-packages/sklearn/linear_model/_logistic.py:1247: FutureWarning: 'multi_class' was deprecated in version 1.5 and will be removed in 1.7. From then on, it will always use 'multinomial'. Leave it to its default value to avoid this warning.\n",
      "  warnings.warn(\n"
     ]
    },
    {
     "name": "stdout",
     "output_type": "stream",
     "text": [
      "Layer 11 classification score: 0.592057761732852\n",
      "Micro-averaged One-vs-Rest ROC AUC score:\n",
      "0.84\n",
      "12\n"
     ]
    },
    {
     "name": "stderr",
     "output_type": "stream",
     "text": [
      "/home/sa/anaconda3/envs/llm2vec/lib/python3.10/site-packages/sklearn/linear_model/_logistic.py:1247: FutureWarning: 'multi_class' was deprecated in version 1.5 and will be removed in 1.7. From then on, it will always use 'multinomial'. Leave it to its default value to avoid this warning.\n",
      "  warnings.warn(\n"
     ]
    },
    {
     "name": "stdout",
     "output_type": "stream",
     "text": [
      "Layer 12 classification score: 0.5649819494584838\n",
      "Micro-averaged One-vs-Rest ROC AUC score:\n",
      "0.83\n",
      "13\n"
     ]
    },
    {
     "name": "stderr",
     "output_type": "stream",
     "text": [
      "/home/sa/anaconda3/envs/llm2vec/lib/python3.10/site-packages/sklearn/linear_model/_logistic.py:1247: FutureWarning: 'multi_class' was deprecated in version 1.5 and will be removed in 1.7. From then on, it will always use 'multinomial'. Leave it to its default value to avoid this warning.\n",
      "  warnings.warn(\n"
     ]
    },
    {
     "name": "stdout",
     "output_type": "stream",
     "text": [
      "Layer 13 classification score: 0.6028880866425993\n",
      "Micro-averaged One-vs-Rest ROC AUC score:\n",
      "0.83\n",
      "14\n"
     ]
    },
    {
     "name": "stderr",
     "output_type": "stream",
     "text": [
      "/home/sa/anaconda3/envs/llm2vec/lib/python3.10/site-packages/sklearn/linear_model/_logistic.py:1247: FutureWarning: 'multi_class' was deprecated in version 1.5 and will be removed in 1.7. From then on, it will always use 'multinomial'. Leave it to its default value to avoid this warning.\n",
      "  warnings.warn(\n"
     ]
    },
    {
     "name": "stdout",
     "output_type": "stream",
     "text": [
      "Layer 14 classification score: 0.5884476534296029\n",
      "Micro-averaged One-vs-Rest ROC AUC score:\n",
      "0.84\n",
      "15\n"
     ]
    },
    {
     "name": "stderr",
     "output_type": "stream",
     "text": [
      "/home/sa/anaconda3/envs/llm2vec/lib/python3.10/site-packages/sklearn/linear_model/_logistic.py:1247: FutureWarning: 'multi_class' was deprecated in version 1.5 and will be removed in 1.7. From then on, it will always use 'multinomial'. Leave it to its default value to avoid this warning.\n",
      "  warnings.warn(\n"
     ]
    },
    {
     "name": "stdout",
     "output_type": "stream",
     "text": [
      "Layer 15 classification score: 0.5848375451263538\n",
      "Micro-averaged One-vs-Rest ROC AUC score:\n",
      "0.83\n",
      "16\n"
     ]
    },
    {
     "name": "stderr",
     "output_type": "stream",
     "text": [
      "/home/sa/anaconda3/envs/llm2vec/lib/python3.10/site-packages/sklearn/linear_model/_logistic.py:1247: FutureWarning: 'multi_class' was deprecated in version 1.5 and will be removed in 1.7. From then on, it will always use 'multinomial'. Leave it to its default value to avoid this warning.\n",
      "  warnings.warn(\n"
     ]
    },
    {
     "name": "stdout",
     "output_type": "stream",
     "text": [
      "Layer 16 classification score: 0.5794223826714802\n",
      "Micro-averaged One-vs-Rest ROC AUC score:\n",
      "0.82\n",
      "17\n"
     ]
    },
    {
     "name": "stderr",
     "output_type": "stream",
     "text": [
      "/home/sa/anaconda3/envs/llm2vec/lib/python3.10/site-packages/sklearn/linear_model/_logistic.py:1247: FutureWarning: 'multi_class' was deprecated in version 1.5 and will be removed in 1.7. From then on, it will always use 'multinomial'. Leave it to its default value to avoid this warning.\n",
      "  warnings.warn(\n"
     ]
    },
    {
     "name": "stdout",
     "output_type": "stream",
     "text": [
      "Layer 17 classification score: 0.592057761732852\n",
      "Micro-averaged One-vs-Rest ROC AUC score:\n",
      "0.83\n",
      "18\n"
     ]
    },
    {
     "name": "stderr",
     "output_type": "stream",
     "text": [
      "/home/sa/anaconda3/envs/llm2vec/lib/python3.10/site-packages/sklearn/linear_model/_logistic.py:1247: FutureWarning: 'multi_class' was deprecated in version 1.5 and will be removed in 1.7. From then on, it will always use 'multinomial'. Leave it to its default value to avoid this warning.\n",
      "  warnings.warn(\n"
     ]
    },
    {
     "name": "stdout",
     "output_type": "stream",
     "text": [
      "Layer 18 classification score: 0.6227436823104693\n",
      "Micro-averaged One-vs-Rest ROC AUC score:\n",
      "0.85\n",
      "19\n"
     ]
    },
    {
     "name": "stderr",
     "output_type": "stream",
     "text": [
      "/home/sa/anaconda3/envs/llm2vec/lib/python3.10/site-packages/sklearn/linear_model/_logistic.py:1247: FutureWarning: 'multi_class' was deprecated in version 1.5 and will be removed in 1.7. From then on, it will always use 'multinomial'. Leave it to its default value to avoid this warning.\n",
      "  warnings.warn(\n"
     ]
    },
    {
     "name": "stdout",
     "output_type": "stream",
     "text": [
      "Layer 19 classification score: 0.6407942238267148\n",
      "Micro-averaged One-vs-Rest ROC AUC score:\n",
      "0.86\n",
      "20\n"
     ]
    },
    {
     "name": "stderr",
     "output_type": "stream",
     "text": [
      "/home/sa/anaconda3/envs/llm2vec/lib/python3.10/site-packages/sklearn/linear_model/_logistic.py:1247: FutureWarning: 'multi_class' was deprecated in version 1.5 and will be removed in 1.7. From then on, it will always use 'multinomial'. Leave it to its default value to avoid this warning.\n",
      "  warnings.warn(\n"
     ]
    },
    {
     "name": "stdout",
     "output_type": "stream",
     "text": [
      "Layer 20 classification score: 0.6389891696750902\n",
      "Micro-averaged One-vs-Rest ROC AUC score:\n",
      "0.87\n",
      "21\n"
     ]
    },
    {
     "name": "stderr",
     "output_type": "stream",
     "text": [
      "/home/sa/anaconda3/envs/llm2vec/lib/python3.10/site-packages/sklearn/linear_model/_logistic.py:1247: FutureWarning: 'multi_class' was deprecated in version 1.5 and will be removed in 1.7. From then on, it will always use 'multinomial'. Leave it to its default value to avoid this warning.\n",
      "  warnings.warn(\n"
     ]
    },
    {
     "name": "stdout",
     "output_type": "stream",
     "text": [
      "Layer 21 classification score: 0.6552346570397112\n",
      "Micro-averaged One-vs-Rest ROC AUC score:\n",
      "0.88\n",
      "22\n"
     ]
    },
    {
     "name": "stderr",
     "output_type": "stream",
     "text": [
      "/tmp/ipykernel_1842274/3333821359.py:13: RuntimeWarning: More than 20 figures have been opened. Figures created through the pyplot interface (`matplotlib.pyplot.figure`) are retained until explicitly closed and may consume too much memory. (To control this warning, see the rcParam `figure.max_open_warning`). Consider using `matplotlib.pyplot.close()`.\n",
      "  fig, ax = plt.subplots(figsize=(6, 6))\n",
      "/home/sa/anaconda3/envs/llm2vec/lib/python3.10/site-packages/sklearn/linear_model/_logistic.py:1247: FutureWarning: 'multi_class' was deprecated in version 1.5 and will be removed in 1.7. From then on, it will always use 'multinomial'. Leave it to its default value to avoid this warning.\n",
      "  warnings.warn(\n"
     ]
    },
    {
     "name": "stdout",
     "output_type": "stream",
     "text": [
      "Layer 22 classification score: 0.6570397111913358\n",
      "Micro-averaged One-vs-Rest ROC AUC score:\n",
      "0.89\n",
      "23\n"
     ]
    },
    {
     "name": "stderr",
     "output_type": "stream",
     "text": [
      "/home/sa/anaconda3/envs/llm2vec/lib/python3.10/site-packages/sklearn/linear_model/_logistic.py:1247: FutureWarning: 'multi_class' was deprecated in version 1.5 and will be removed in 1.7. From then on, it will always use 'multinomial'. Leave it to its default value to avoid this warning.\n",
      "  warnings.warn(\n"
     ]
    },
    {
     "name": "stdout",
     "output_type": "stream",
     "text": [
      "Layer 23 classification score: 0.6407942238267148\n",
      "Micro-averaged One-vs-Rest ROC AUC score:\n",
      "0.88\n",
      "24\n"
     ]
    },
    {
     "name": "stderr",
     "output_type": "stream",
     "text": [
      "/home/sa/anaconda3/envs/llm2vec/lib/python3.10/site-packages/sklearn/linear_model/_logistic.py:1247: FutureWarning: 'multi_class' was deprecated in version 1.5 and will be removed in 1.7. From then on, it will always use 'multinomial'. Leave it to its default value to avoid this warning.\n",
      "  warnings.warn(\n"
     ]
    },
    {
     "name": "stdout",
     "output_type": "stream",
     "text": [
      "Layer 24 classification score: 0.6570397111913358\n",
      "Micro-averaged One-vs-Rest ROC AUC score:\n",
      "0.89\n",
      "25\n",
      "Error in layer 25: list index out of range\n",
      "26\n",
      "Error in layer 26: list index out of range\n",
      "27\n",
      "Error in layer 27: list index out of range\n",
      "28\n",
      "Error in layer 28: list index out of range\n",
      "29\n",
      "Error in layer 29: list index out of range\n",
      "30\n",
      "Error in layer 30: list index out of range\n",
      "31\n",
      "Error in layer 31: list index out of range\n",
      "32\n",
      "Error in layer 32: list index out of range\n"
     ]
    },
    {
     "data": {
      "text/plain": [
       "<Figure size 600x600 with 0 Axes>"
      ]
     },
     "metadata": {},
     "output_type": "display_data"
    },
    {
     "data": {
      "text/plain": [
       "<Figure size 600x600 with 0 Axes>"
      ]
     },
     "metadata": {},
     "output_type": "display_data"
    },
    {
     "data": {
      "text/plain": [
       "<Figure size 600x600 with 0 Axes>"
      ]
     },
     "metadata": {},
     "output_type": "display_data"
    },
    {
     "data": {
      "text/plain": [
       "<Figure size 600x600 with 0 Axes>"
      ]
     },
     "metadata": {},
     "output_type": "display_data"
    },
    {
     "data": {
      "text/plain": [
       "<Figure size 600x600 with 0 Axes>"
      ]
     },
     "metadata": {},
     "output_type": "display_data"
    },
    {
     "data": {
      "text/plain": [
       "<Figure size 600x600 with 0 Axes>"
      ]
     },
     "metadata": {},
     "output_type": "display_data"
    },
    {
     "data": {
      "text/plain": [
       "<Figure size 600x600 with 0 Axes>"
      ]
     },
     "metadata": {},
     "output_type": "display_data"
    },
    {
     "data": {
      "text/plain": [
       "<Figure size 600x600 with 0 Axes>"
      ]
     },
     "metadata": {},
     "output_type": "display_data"
    },
    {
     "data": {
      "text/plain": [
       "<Figure size 600x600 with 0 Axes>"
      ]
     },
     "metadata": {},
     "output_type": "display_data"
    },
    {
     "data": {
      "text/plain": [
       "<Figure size 600x600 with 0 Axes>"
      ]
     },
     "metadata": {},
     "output_type": "display_data"
    },
    {
     "data": {
      "text/plain": [
       "<Figure size 600x600 with 0 Axes>"
      ]
     },
     "metadata": {},
     "output_type": "display_data"
    },
    {
     "data": {
      "text/plain": [
       "<Figure size 600x600 with 0 Axes>"
      ]
     },
     "metadata": {},
     "output_type": "display_data"
    },
    {
     "data": {
      "text/plain": [
       "<Figure size 600x600 with 0 Axes>"
      ]
     },
     "metadata": {},
     "output_type": "display_data"
    },
    {
     "data": {
      "text/plain": [
       "<Figure size 600x600 with 0 Axes>"
      ]
     },
     "metadata": {},
     "output_type": "display_data"
    },
    {
     "data": {
      "text/plain": [
       "<Figure size 600x600 with 0 Axes>"
      ]
     },
     "metadata": {},
     "output_type": "display_data"
    },
    {
     "data": {
      "text/plain": [
       "<Figure size 600x600 with 0 Axes>"
      ]
     },
     "metadata": {},
     "output_type": "display_data"
    },
    {
     "data": {
      "text/plain": [
       "<Figure size 600x600 with 0 Axes>"
      ]
     },
     "metadata": {},
     "output_type": "display_data"
    },
    {
     "data": {
      "text/plain": [
       "<Figure size 600x600 with 0 Axes>"
      ]
     },
     "metadata": {},
     "output_type": "display_data"
    },
    {
     "data": {
      "text/plain": [
       "<Figure size 600x600 with 0 Axes>"
      ]
     },
     "metadata": {},
     "output_type": "display_data"
    },
    {
     "data": {
      "text/plain": [
       "<Figure size 600x600 with 0 Axes>"
      ]
     },
     "metadata": {},
     "output_type": "display_data"
    },
    {
     "data": {
      "text/plain": [
       "<Figure size 600x600 with 0 Axes>"
      ]
     },
     "metadata": {},
     "output_type": "display_data"
    },
    {
     "data": {
      "text/plain": [
       "<Figure size 600x600 with 0 Axes>"
      ]
     },
     "metadata": {},
     "output_type": "display_data"
    },
    {
     "data": {
      "text/plain": [
       "<Figure size 600x600 with 0 Axes>"
      ]
     },
     "metadata": {},
     "output_type": "display_data"
    },
    {
     "data": {
      "text/plain": [
       "<Figure size 600x600 with 0 Axes>"
      ]
     },
     "metadata": {},
     "output_type": "display_data"
    }
   ],
   "source": [
    "# layers = [18,19,20] # commented for tests\n",
    "# \n",
    "layers = [1,2,3,4,5,6,7,8,9,10,11,12,13,14,15,16,17,18,19,20,21,22,23,24,25,26,27,28,29,30,31,32] \n",
    "for layer in layers:\n",
    "    print(layer)\n",
    "    try:\n",
    "        single_layer_classification(layer)\n",
    "    except Exception as e:\n",
    "        print(f\"Error in layer {layer}: {e}\")"
   ]
  },
  {
   "cell_type": "code",
   "execution_count": null,
   "metadata": {},
   "outputs": [],
   "source": []
  },
  {
   "cell_type": "code",
   "execution_count": null,
   "metadata": {},
   "outputs": [],
   "source": []
  }
 ],
 "metadata": {
  "kernelspec": {
   "display_name": "llm2vec",
   "language": "python",
   "name": "python3"
  },
  "language_info": {
   "codemirror_mode": {
    "name": "ipython",
    "version": 3
   },
   "file_extension": ".py",
   "mimetype": "text/x-python",
   "name": "python",
   "nbconvert_exporter": "python",
   "pygments_lexer": "ipython3",
   "version": "3.10.14"
  }
 },
 "nbformat": 4,
 "nbformat_minor": 2
}
